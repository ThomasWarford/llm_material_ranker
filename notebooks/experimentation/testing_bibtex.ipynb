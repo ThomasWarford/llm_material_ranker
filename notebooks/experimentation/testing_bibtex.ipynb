{
 "cells": [
  {
   "cell_type": "code",
   "execution_count": 26,
   "id": "2bdecfbd-c687-48c7-ad6b-61b1a7f62686",
   "metadata": {},
   "outputs": [],
   "source": [
    "from bibtexparser import parse_string"
   ]
  },
  {
   "cell_type": "code",
   "execution_count": 27,
   "id": "a29b3271-10cb-4564-aefd-0b9481319233",
   "metadata": {},
   "outputs": [],
   "source": [
    "a = parse_string('@article{Jain2013,\\nauthor = {Jain, Anubhav and Ong, Shyue Ping and Hautier, Geoffroy and Chen, Wei and Richards, William Davidson and Dacek, Stephen and Cholia, Shreyas and Gunter, Dan and Skinner, David and Ceder, Gerbrand and Persson, Kristin a.},\\ndoi = {10.1063/1.4812323},\\nissn = {2166532X},\\njournal = {APL Materials},\\nnumber = {1},\\npages = {011002},\\ntitle = {{The Materials Project: A materials genome approach to accelerating materials innovation}},\\nurl = {http://link.aip.org/link/AMPADS/v1/i1/p011002/s1\\\\&Agg=doi},\\nvolume = {1},\\nyear = {2013}\\n}\\n\\n@misc{MaterialsProject,\\ntitle = {{Materials Project}},\\nurl = {http://www.materialsproject.org}\\n}')"
   ]
  },
  {
   "cell_type": "code",
   "execution_count": 30,
   "id": "036f2b73-d01a-4159-91ec-09b79cd7463d",
   "metadata": {},
   "outputs": [
    {
     "data": {
      "text/plain": [
       "'{The Materials Project: A materials genome approach to accelerating materials innovation}'"
      ]
     },
     "execution_count": 30,
     "metadata": {},
     "output_type": "execute_result"
    }
   ],
   "source": [
    "a.blocks[0][\"title\"]"
   ]
  },
  {
   "cell_type": "code",
   "execution_count": 11,
   "id": "1771900f-1a8c-4aab-810b-735d59e37c21",
   "metadata": {},
   "outputs": [],
   "source": [
    "import numpy as np\n",
    "from mp_api.client import MPRester"
   ]
  },
  {
   "cell_type": "code",
   "execution_count": 33,
   "id": "09646269-daa6-4700-8509-cfd5765ef9cc",
   "metadata": {},
   "outputs": [
    {
     "name": "stderr",
     "output_type": "stream",
     "text": [
      "Retrieving ProvenanceDoc documents: 100%|████████████████████████████████████████████████████| 1/1 [00:00<00:00, 7639.90it/s]"
     ]
    },
    {
     "name": "stdout",
     "output_type": "stream",
     "text": [
      "mp-869\n",
      "['@article{Brauer1938,\\n    author = \"Brauer, G.\",\\n    title = \"Kristallstruktur intermetallischer Verbindungen des Aluminiums mit Titan, Zirkon, Thorium, Niob und Tantal\",\\n    journal = \"Naturwissenschaften\",\\n    year = \"1938\",\\n    volume = \"26\",\\n    pages = \"710-710\",\\n    ASTM_id = \"NATWAY\"\\n}\\n', '@article{Kimura1974,\\n    author = \"Kimura, H. and Nakano, O. and Ohkoshi, T.\",\\n    title = \"On the phase equilibria in the Al-Ta system\",\\n    journal = \"Transactions of the National Research Institute for Metals\",\\n    year = \"1974\",\\n    volume = \"16\",\\n    pages = \"1-6\",\\n    ASTM_id = \"TNRMAF\"\\n}\\n', '@article{Condron2003,\\n    author = \"Condron, C.L. and Miller, G.J. and Strand, J.D. and Bud\\'ko, S.L. and Canfield, P.C.\",\\n    title = \"A new look at bonding in trialuminides: reinvestigation of Ta Al3\",\\n    journal = \"Inorganic Chemistry\",\\n    year = \"2003\",\\n    volume = \"42\",\\n    pages = \"8371-8376\",\\n    ASTM_id = \"INOCAJ\"\\n}\\n', '@article{Nowotny1961,\\n    author = \"Nowotny, H.N. and Brukl, C. and Benesovsky, F.\",\\n    title = \"Untersuchungen in den Systemen Tantal-Aluminium-Silicium und Wolfram-Aluminium-Silicium\",\\n    journal = \"Monatshefte fuer Chemie\",\\n    year = \"1961\",\\n    volume = \"92\",\\n    pages = \"116-127\",\\n    ASTM_id = \"MOCMB7\"\\n}\\n', '@article{Maas1983,\\n    author = \"Maas, J. and Bastin, G.F. and van Loo, F.J.J. and Metselaar, R.\",\\n    title = \"The texture in diffusion-grown layers of trialuminides Me Al3 (Me= Ti, V, Ta, Nb, Zr, Hf) and V Ni3\",\\n    journal = \"Zeitschrift fuer Metallkunde\",\\n    year = \"1983\",\\n    volume = \"74\",\\n    pages = \"294-299\",\\n    ASTM_id = \"ZEMTAE\"\\n}\\n', '@article{Sridharan1983,\\n    author = \"Sridharan, S. and Nowotny, H.N.\",\\n    title = \"Studies in the ternary system Ti-Ta-Al and in the quaternary system Ti-Ta-Al-C\",\\n    journal = \"Zeitschrift fuer Metallkunde\",\\n    year = \"1983\",\\n    volume = \"74\",\\n    pages = \"468-472\",\\n    ASTM_id = \"ZEMTAE\"\\n}\\n', '@article{Raman1965,\\n    author = \"Raman, A.\",\\n    title = \"Ueber das System Ta-Al\",\\n    journal = \"Aluminium\",\\n    year = \"1965\",\\n    volume = \"41\",\\n    pages = \"318-319\",\\n    ASTM_id = \"ALUMAB\"\\n}\\n', '@article{Brauer1939,\\n    author = \"Brauer, G.\",\\n    title = \"Ueber die Kristallstruktur von Ti Al3, Nb Al3, Ta Al3 und Zr Al3\",\\n    journal = \"Zeitschrift fuer Anorganische und Allgemeine Chemie (1950) (DE)\",\\n    year = \"1939\",\\n    volume = \"242\",\\n    pages = \"1-22\",\\n    ASTM_id = \"ZAACAB\"\\n}\\n', '@article{Schuster1985,\\n    author = \"Schuster, J.C.\",\\n    title = \"Phases and phase relations in the system Ta-Al\",\\n    journal = \"Zeitschrift fuer Metallkunde\",\\n    year = \"1985\",\\n    volume = \"76\",\\n    pages = \"724-727\",\\n    ASTM_id = \"ZEMTAE\"\\n}\\n', '@article{Jain2013,\\nauthor = {Jain, Anubhav and Ong, Shyue Ping and Hautier, Geoffroy and Chen, Wei and Richards, William Davidson and Dacek, Stephen and Cholia, Shreyas and Gunter, Dan and Skinner, David and Ceder, Gerbrand and Persson, Kristin a.},\\ndoi = {10.1063/1.4812323},\\nissn = {2166532X},\\njournal = {APL Materials},\\nnumber = {1},\\npages = {011002},\\ntitle = {{The Materials Project: A materials genome approach to accelerating materials innovation}},\\nurl = {http://link.aip.org/link/AMPADS/v1/i1/p011002/s1\\\\&Agg=doi},\\nvolume = {1},\\nyear = {2013}\\n}\\n\\n@misc{MaterialsProject,\\ntitle = {{Materials Project}},\\nurl = {http://www.materialsproject.org}\\n}']\n"
     ]
    },
    {
     "name": "stderr",
     "output_type": "stream",
     "text": [
      "\n"
     ]
    }
   ],
   "source": [
    "material_id = f\"mp-{np.random.randint(30000)}\"\n",
    "\n",
    "with MPRester(API_KEY) as mpr:\n",
    "\n",
    "    docs = mpr.materials.provenance.search(fields=\"references\", material_ids=material_id)\n",
    "    try:\n",
    "        bibtexs = docs[0].references\n",
    "    except:\n",
    "        pass\n",
    "print(material_id)\n",
    "print(bibtexs)"
   ]
  },
  {
   "cell_type": "code",
   "execution_count": null,
   "id": "66ad93ab-98ec-4766-9f77-fb686f27100d",
   "metadata": {},
   "outputs": [],
   "source": []
  },
  {
   "cell_type": "code",
   "execution_count": null,
   "id": "08bfda46-8a76-4ead-993d-1008a9c1f68c",
   "metadata": {},
   "outputs": [],
   "source": []
  }
 ],
 "metadata": {
  "kernelspec": {
   "display_name": "Python 3 (ipykernel)",
   "language": "python",
   "name": "python3"
  },
  "language_info": {
   "codemirror_mode": {
    "name": "ipython",
    "version": 3
   },
   "file_extension": ".py",
   "mimetype": "text/x-python",
   "name": "python",
   "nbconvert_exporter": "python",
   "pygments_lexer": "ipython3",
   "version": "3.12.2"
  }
 },
 "nbformat": 4,
 "nbformat_minor": 5
}
